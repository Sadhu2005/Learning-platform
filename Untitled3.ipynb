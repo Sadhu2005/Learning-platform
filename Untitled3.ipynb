{
  "nbformat": 4,
  "nbformat_minor": 0,
  "metadata": {
    "colab": {
      "provenance": [],
      "authorship_tag": "ABX9TyPFFMGKdu1czzxL4anq2uPd",
      "include_colab_link": true
    },
    "kernelspec": {
      "name": "python3",
      "display_name": "Python 3"
    },
    "language_info": {
      "name": "python"
    }
  },
  "cells": [
    {
      "cell_type": "markdown",
      "metadata": {
        "id": "view-in-github",
        "colab_type": "text"
      },
      "source": [
        "<a href=\"https://colab.research.google.com/github/Sadhu2005/Learning-platform/blob/main/Untitled3.ipynb\" target=\"_parent\"><img src=\"https://colab.research.google.com/assets/colab-badge.svg\" alt=\"Open In Colab\"/></a>"
      ]
    },
    {
      "cell_type": "code",
      "source": [
        "import os\n",
        "import openai\n",
        "from config import apikey\n",
        "\n",
        "openai.api_key = apikey\n",
        "\n",
        "response = openai.Completion.create(\n",
        "  model=\"text-davinci-003\",\n",
        "  prompt=\"Write an email to my boss for resignation?\",\n",
        "  temperature=0.7,\n",
        "  max_tokens=256,\n",
        "  top_p=1,\n",
        "  frequency_penalty=0,\n",
        "  presence_penalty=0\n",
        ")\n",
        "\n",
        "print(response)\n",
        "'''\n",
        "{\n",
        "  \"choices\": [\n",
        "    {\n",
        "      \"finish_reason\": \"stop\",\n",
        "      \"index\": 0,\n",
        "      \"logprobs\": null,\n",
        "      \"text\": \"\\n\\nSubject: Resignation\\n\\nDear [Name],\\n\\nI am writing to inform you of my intention to resign from my current position at [Company]. My last day of work will be [date].\\n\\nI have enjoyed my time at [Company], and I am grateful for the opportunity to work here. I have learned a great deal during my time in this position, and I am grateful for the experience.\\n\\nIf I can be of any assistance during this transition, please do not hesitate to ask.\\n\\nThank you for your understanding.\\n\\nSincerely,\\n[Your Name]\"\n",
        "    }\n",
        "  ],\n",
        "  \"created\": 1683815400,\n",
        "  \"id\": \"cmpl-7F1aqg7BkzIY8vBnCxYQh8Xp4wO85\",\n",
        "  \"model\": \"text-davinci-003\",\n",
        "  \"object\": \"text_completion\",\n",
        "  \"usage\": {\n",
        "    \"completion_tokens\": 125,\n",
        "    \"prompt_tokens\": 9,\n",
        "    \"total_tokens\": 134\n",
        "  }\n",
        "}\n",
        "'''\n"
      ],
      "metadata": {
        "colab": {
          "base_uri": "https://localhost:8080/",
          "height": 384
        },
        "id": "TCJ2wE7g6HPi",
        "outputId": "b5705124-b77a-4620-d116-a1f10dc568d6"
      },
      "execution_count": 2,
      "outputs": [
        {
          "output_type": "error",
          "ename": "ModuleNotFoundError",
          "evalue": "No module named 'openai'",
          "traceback": [
            "\u001b[0;31m---------------------------------------------------------------------------\u001b[0m",
            "\u001b[0;31mModuleNotFoundError\u001b[0m                       Traceback (most recent call last)",
            "\u001b[0;32m<ipython-input-2-ed92214ac65e>\u001b[0m in \u001b[0;36m<cell line: 2>\u001b[0;34m()\u001b[0m\n\u001b[1;32m      1\u001b[0m \u001b[0;32mimport\u001b[0m \u001b[0mos\u001b[0m\u001b[0;34m\u001b[0m\u001b[0;34m\u001b[0m\u001b[0m\n\u001b[0;32m----> 2\u001b[0;31m \u001b[0;32mimport\u001b[0m \u001b[0mopenai\u001b[0m\u001b[0;34m\u001b[0m\u001b[0;34m\u001b[0m\u001b[0m\n\u001b[0m\u001b[1;32m      3\u001b[0m \u001b[0;32mfrom\u001b[0m \u001b[0mconfig\u001b[0m \u001b[0;32mimport\u001b[0m \u001b[0mapikey\u001b[0m\u001b[0;34m\u001b[0m\u001b[0;34m\u001b[0m\u001b[0m\n\u001b[1;32m      4\u001b[0m \u001b[0;34m\u001b[0m\u001b[0m\n\u001b[1;32m      5\u001b[0m \u001b[0mopenai\u001b[0m\u001b[0;34m.\u001b[0m\u001b[0mapi_key\u001b[0m \u001b[0;34m=\u001b[0m \u001b[0mapikey\u001b[0m\u001b[0;34m\u001b[0m\u001b[0;34m\u001b[0m\u001b[0m\n",
            "\u001b[0;31mModuleNotFoundError\u001b[0m: No module named 'openai'",
            "",
            "\u001b[0;31m---------------------------------------------------------------------------\u001b[0;32m\nNOTE: If your import is failing due to a missing package, you can\nmanually install dependencies using either !pip or !apt.\n\nTo view examples of installing some common dependencies, click the\n\"Open Examples\" button below.\n\u001b[0;31m---------------------------------------------------------------------------\u001b[0m\n"
          ],
          "errorDetails": {
            "actions": [
              {
                "action": "open_url",
                "actionText": "Open Examples",
                "url": "/notebooks/snippets/importing_libraries.ipynb"
              }
            ]
          }
        }
      ]
    },
    {
      "cell_type": "code",
      "source": [],
      "metadata": {
        "id": "Ye7wFAJn6TIK"
      },
      "execution_count": null,
      "outputs": []
    },
    {
      "cell_type": "code",
      "execution_count": 1,
      "metadata": {
        "colab": {
          "base_uri": "https://localhost:8080/",
          "height": 384
        },
        "id": "WDRrwpO-51cb",
        "outputId": "9afa1b3b-a60e-4996-9ea0-c16700f79125"
      },
      "outputs": [
        {
          "output_type": "error",
          "ename": "ModuleNotFoundError",
          "evalue": "No module named 'speech_recognition'",
          "traceback": [
            "\u001b[0;31m---------------------------------------------------------------------------\u001b[0m",
            "\u001b[0;31mModuleNotFoundError\u001b[0m                       Traceback (most recent call last)",
            "\u001b[0;32m<ipython-input-1-81e28c8c1983>\u001b[0m in \u001b[0;36m<cell line: 1>\u001b[0;34m()\u001b[0m\n\u001b[0;32m----> 1\u001b[0;31m \u001b[0;32mimport\u001b[0m \u001b[0mspeech_recognition\u001b[0m \u001b[0;32mas\u001b[0m \u001b[0msr\u001b[0m\u001b[0;34m\u001b[0m\u001b[0;34m\u001b[0m\u001b[0m\n\u001b[0m\u001b[1;32m      2\u001b[0m \u001b[0;32mimport\u001b[0m \u001b[0mos\u001b[0m\u001b[0;34m\u001b[0m\u001b[0;34m\u001b[0m\u001b[0m\n\u001b[1;32m      3\u001b[0m \u001b[0;32mimport\u001b[0m \u001b[0mwebbrowser\u001b[0m\u001b[0;34m\u001b[0m\u001b[0;34m\u001b[0m\u001b[0m\n\u001b[1;32m      4\u001b[0m \u001b[0;32mimport\u001b[0m \u001b[0mopenai\u001b[0m\u001b[0;34m\u001b[0m\u001b[0;34m\u001b[0m\u001b[0m\n\u001b[1;32m      5\u001b[0m \u001b[0;32mfrom\u001b[0m \u001b[0mconfig\u001b[0m \u001b[0;32mimport\u001b[0m \u001b[0mapikey\u001b[0m\u001b[0;34m\u001b[0m\u001b[0;34m\u001b[0m\u001b[0m\n",
            "\u001b[0;31mModuleNotFoundError\u001b[0m: No module named 'speech_recognition'",
            "",
            "\u001b[0;31m---------------------------------------------------------------------------\u001b[0;32m\nNOTE: If your import is failing due to a missing package, you can\nmanually install dependencies using either !pip or !apt.\n\nTo view examples of installing some common dependencies, click the\n\"Open Examples\" button below.\n\u001b[0;31m---------------------------------------------------------------------------\u001b[0m\n"
          ],
          "errorDetails": {
            "actions": [
              {
                "action": "open_url",
                "actionText": "Open Examples",
                "url": "/notebooks/snippets/importing_libraries.ipynb"
              }
            ]
          }
        }
      ],
      "source": [
        "import speech_recognition as sr\n",
        "import os\n",
        "import webbrowser\n",
        "import openai\n",
        "from config import apikey\n",
        "import datetime\n",
        "import random\n",
        "import numpy as np\n",
        "\n",
        "\n",
        "chatStr = \"\"\n",
        "# https://youtu.be/Z3ZAJoi4x6Q\n",
        "def chat(query):\n",
        "    global chatStr\n",
        "    print(chatStr)\n",
        "    openai.api_key = apikey\n",
        "    chatStr += f\"Harry: {query}\\n Jarvis: \"\n",
        "    response = openai.Completion.create(\n",
        "        model=\"text-davinci-003\",\n",
        "        prompt= chatStr,\n",
        "        temperature=0.7,\n",
        "        max_tokens=256,\n",
        "        top_p=1,\n",
        "        frequency_penalty=0,\n",
        "        presence_penalty=0\n",
        "    )\n",
        "    # todo: Wrap this inside of a  try catch block\n",
        "    say(response[\"choices\"][0][\"text\"])\n",
        "    chatStr += f\"{response['choices'][0]['text']}\\n\"\n",
        "    return response[\"choices\"][0][\"text\"]\n",
        "\n",
        "\n",
        "def ai(prompt):\n",
        "    openai.api_key = apikey\n",
        "    text = f\"OpenAI response for Prompt: {prompt} \\n *************************\\n\\n\"\n",
        "\n",
        "    response = openai.Completion.create(\n",
        "        model=\"text-davinci-003\",\n",
        "        prompt=prompt,\n",
        "        temperature=0.7,\n",
        "        max_tokens=256,\n",
        "        top_p=1,\n",
        "        frequency_penalty=0,\n",
        "        presence_penalty=0\n",
        "    )\n",
        "    # todo: Wrap this inside of a  try catch block\n",
        "    # print(response[\"choices\"][0][\"text\"])\n",
        "    text += response[\"choices\"][0][\"text\"]\n",
        "    if not os.path.exists(\"Openai\"):\n",
        "        os.mkdir(\"Openai\")\n",
        "\n",
        "    # with open(f\"Openai/prompt- {random.randint(1, 2343434356)}\", \"w\") as f:\n",
        "    with open(f\"Openai/{''.join(prompt.split('intelligence')[1:]).strip() }.txt\", \"w\") as f:\n",
        "        f.write(text)\n",
        "\n",
        "def say(text):\n",
        "    os.system(f'say \"{text}\"')\n",
        "\n",
        "def takeCommand():\n",
        "    r = sr.Recognizer()\n",
        "    with sr.Microphone() as source:\n",
        "        # r.pause_threshold =  0.6\n",
        "        audio = r.listen(source)\n",
        "        try:\n",
        "            print(\"Recognizing...\")\n",
        "            query = r.recognize_google_cloud(audio, language=\"en-in\")\n",
        "            print(f\"User said: {query}\")\n",
        "            return query\n",
        "        except Exception as e:\n",
        "            return \"Some Error Occurred. Sorry from Jarvis\"\n",
        "\n",
        "if __name__ == '__main__':\n",
        "    print('Welcome D.A.A world')\n",
        "    say(\"HI I am Daa...\")\n",
        "    while True:\n",
        "        print(\"Listening...\")\n",
        "        query = takeCommand()\n",
        "        # todo: Add more sites\n",
        "        sites = [[\"youtube\", \"https://www.youtube.com\"], [\"wikipedia\", \"https://www.wikipedia.com\"], [\"google\", \"https://www.google.com\"],]\n",
        "        for site in sites:\n",
        "            if f\"Open {site[0]}\".lower() in query.lower():\n",
        "                say(f\"Opening {site[0]} sir...\")\n",
        "                webbrowser.open(site[1])\n",
        "        # todo: Add a feature to play a specific song\n",
        "        if \"open music\" in query:\n",
        "            musicPath = \"/Users/harry/Downloads/downfall-21371.mp3\"\n",
        "            os.system(f\"open {musicPath}\")\n",
        "\n",
        "        elif \"the time\" in query:\n",
        "            musicPath = \"/Users/harry/Downloads/downfall-21371.mp3\"\n",
        "            hour = datetime.datetime.now().strftime(\"%H\")\n",
        "            min = datetime.datetime.now().strftime(\"%M\")\n",
        "            say(f\"Sir time is {hour} bajke {min} minutes\")\n",
        "\n",
        "        elif \"open facetime\".lower() in query.lower():\n",
        "            os.system(f\"open /System/Applications/FaceTime.app\")\n",
        "\n",
        "        elif \"open pass\".lower() in query.lower():\n",
        "            os.system(f\"open /Applications/Passky.app\")\n",
        "\n",
        "        elif \"Using artificial intelligence\".lower() in query.lower():\n",
        "            ai(prompt=query)\n",
        "\n",
        "        elif \"Jarvis Quit\".lower() in query.lower():\n",
        "            exit()\n",
        "\n",
        "        elif \"reset chat\".lower() in query.lower():\n",
        "            chatStr = \"\"\n",
        "\n",
        "        else:\n",
        "            print(\"Chatting...\")\n",
        "            chat(query)\n",
        "\n",
        "\n",
        "\n",
        "\n",
        "\n",
        "        # say(query)"
      ]
    },
    {
      "cell_type": "code",
      "source": [],
      "metadata": {
        "id": "OJBuLQpX6E7J"
      },
      "execution_count": null,
      "outputs": []
    }
  ]
}